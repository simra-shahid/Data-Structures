{
 "cells": [
  {
   "cell_type": "code",
   "execution_count": 11,
   "metadata": {},
   "outputs": [
    {
     "name": "stdout",
     "output_type": "stream",
     "text": [
      "\n",
      "a \n",
      "b \n",
      "a b \n",
      "c \n",
      "a c \n",
      "b c \n",
      "a b c \n"
     ]
    }
   ],
   "source": [
    "## How to generate all the possible subsets of a set ?\n",
    "a = ['a','b','c']\n",
    "N = len(a)\n",
    "i = 0\n",
    "while i< (1<<N): # i=0 to 2^n\n",
    "    j = 0\n",
    "    while (j < N):\n",
    "        if i & (1<<j): # If jth bit in i is set\n",
    "            print(a[j], end=\" \")\n",
    "        j = j+1\n",
    "    print()\n",
    "    i = i+1\n",
    " \n",
    "    "
   ]
  },
  {
   "cell_type": "code",
   "execution_count": 17,
   "metadata": {},
   "outputs": [
    {
     "data": {
      "text/plain": [
       "128"
      ]
     },
     "execution_count": 17,
     "metadata": {},
     "output_type": "execute_result"
    }
   ],
   "source": [
    "# Find the largest power of 2 (most significant bit in binary form), \n",
    "# which is less than or equal to the given number N.\n",
    "\n",
    "def findMSB(N):\n",
    "\n",
    "    N = N | N>>1\n",
    "    N = N | N>>2\n",
    "    N = N | N>>4\n",
    "    N = N | N>>8\n",
    "\n",
    "    return (N+1)>>1\n",
    "\n",
    "findMSB(129)"
   ]
  },
  {
   "cell_type": "code",
   "execution_count": 20,
   "metadata": {},
   "outputs": [
    {
     "data": {
      "text/plain": [
       "2"
      ]
     },
     "execution_count": 20,
     "metadata": {},
     "output_type": "execute_result"
    }
   ],
   "source": [
    "# Return the rightmost 1 in binary representation of x.\n",
    "N = 14\n",
    "\n",
    "N ^ (N & (N-1))"
   ]
  },
  {
   "cell_type": "raw",
   "metadata": {},
   "source": [
    "Returns the rightmost 1 in binary representation of x\n",
    "\n",
    "(-x) is the two’s complement of x.\n",
    "\n",
    "1's complement = flip everything\n",
    "2's complement = except rightmost 1 flip everything\n",
    "\n",
    "(-x) : N ^ (N & N-1)"
   ]
  },
  {
   "cell_type": "code",
   "execution_count": 25,
   "metadata": {},
   "outputs": [
    {
     "data": {
      "text/plain": [
       "('1110', '1101', '1100', '10')"
      ]
     },
     "execution_count": 25,
     "metadata": {},
     "output_type": "execute_result"
    }
   ],
   "source": [
    "N = 14\n",
    "bin(N)[2:], bin(N-1)[2:], bin(N & N-1)[2:], bin(N ^ (N & N-1))[2:]"
   ]
  },
  {
   "cell_type": "code",
   "execution_count": 30,
   "metadata": {},
   "outputs": [
    {
     "data": {
      "text/plain": [
       "'10'"
      ]
     },
     "execution_count": 30,
     "metadata": {},
     "output_type": "execute_result"
    }
   ],
   "source": [
    "N = 14\n",
    "\n",
    "bin(N & (-N))[2:]"
   ]
  },
  {
   "cell_type": "code",
   "execution_count": 47,
   "metadata": {},
   "outputs": [
    {
     "name": "stdout",
     "output_type": "stream",
     "text": [
      "1010 -> 1110\n"
     ]
    }
   ],
   "source": [
    "#Returns the number N with the ith bit set.\n",
    "i = 2\n",
    "N = 10\n",
    "\n",
    "print(bin(N)[2:], end= \" -> \")\n",
    "print(bin(N | 1<<i)[2:])"
   ]
  },
  {
   "cell_type": "code",
   "execution_count": 52,
   "metadata": {},
   "outputs": [
    {
     "name": "stdout",
     "output_type": "stream",
     "text": [
      "1\n",
      "4 2 \n",
      "6 1 2 0\n",
      "3\n"
     ]
    }
   ],
   "source": [
    "# Monk's Choice of Numbers\n",
    "\n",
    "def count1(n):\n",
    "    count = 0\n",
    "    while (n):\n",
    "        n=n&(n-1)\n",
    "        count+=1\n",
    "    return count\n",
    "\n",
    "def maximizeK(arr,k):\n",
    "    counts=[]\n",
    "    for i in arr:\n",
    "        counts.append(count1(i))\n",
    "    \n",
    "    result = 0\n",
    "    while k!=0:\n",
    "        result+= max(counts)\n",
    "        counts.remove(max(counts))\n",
    "        k=k-1\n",
    "    return result\n",
    "    \n",
    "        \n",
    "maximizeK([6,1,2,0],2)\n",
    "\n",
    "if __name__==\"__main__\":\n",
    "    t = int(input())\n",
    "    while(t>0):\n",
    "        n,k = input().split()\n",
    "        a = list(map(int, input().split())) \n",
    "        ans= maximizeK(a,int(k))\n",
    "        print(ans)\n",
    "        t=t-1"
   ]
  },
  {
   "cell_type": "code",
   "execution_count": 53,
   "metadata": {},
   "outputs": [
    {
     "name": "stdout",
     "output_type": "stream",
     "text": [
      "4\n",
      "1 4\n",
      "2\n",
      "3 3\n",
      "0\n",
      "5 1\n",
      "1\n",
      "8 7\n",
      "4\n"
     ]
    }
   ],
   "source": [
    "# Monk and his Friend\n",
    "def difference(m,p):\n",
    "    ans = m ^ p\n",
    "    return count1(ans)\n",
    "\n",
    "if __name__==\"__main__\":\n",
    "    t = int(input())\n",
    "    while(t>0):\n",
    "        m,p = input().split()\n",
    "        ans= difference(int(m),int(p))\n",
    "        print(ans)\n",
    "        t=t-1"
   ]
  },
  {
   "cell_type": "code",
   "execution_count": 4,
   "metadata": {},
   "outputs": [
    {
     "name": "stdout",
     "output_type": "stream",
     "text": [
      "1 \n",
      "3 4 2\n",
      "2 3 5\n",
      "5 3 10 2\n",
      "8 2 5 7\n",
      "{10: [2, 5], 3: [3], 2: [2], 5: [5]}\n",
      "[12, 2, 13]\n",
      "[7, 2, 13]\n",
      "20\n"
     ]
    }
   ],
   "source": [
    "# Monk in the Magical Land\n",
    "# check significance of co prime with bit manipulation\n",
    "\n",
    "def notCoprime(n,m):\n",
    "    return gcd(n,m)!=1\n",
    "    \n",
    "def gcd(n,m):\n",
    "    \n",
    "    if (n==0) :\n",
    "        return m\n",
    "    if (m==0) :\n",
    "        return n\n",
    "    \n",
    "    if (n>m):\n",
    "        return gcd(n-m,m)\n",
    "    \n",
    "    return gcd(m-n,n)\n",
    "        \n",
    "    \n",
    "    \n",
    "def maximizeGems(k,keys,chest,gems):\n",
    "    all_results = []\n",
    "    visited_by = {}\n",
    "    for i in keys:\n",
    "        result = 0\n",
    "        #print(i,end=\"->\")\n",
    "        for j in range(len(chest)):\n",
    "            if notCoprime(i,chest[j]) : \n",
    "                result+=gems[j]\n",
    "                if chest[j] not in visited_by:\n",
    "                        visited_by[chest[j]] = [i]\n",
    "                else:\n",
    "                    l = visited_by[chest[j]]\n",
    "                    l.append(i)\n",
    "                    visited_by[chest[j]] = l\n",
    "          \n",
    "        all_results.append(result)\n",
    "    \n",
    "    \n",
    "    # find intersections \n",
    "    #print(visited_by)\n",
    "    #print(all_results)\n",
    "\n",
    "    for ki,val in visited_by.items():\n",
    "        if len(val)!=1:\n",
    "            m = 0 \n",
    "            max_key = 0\n",
    "            for v in val:\n",
    "                if m < all_results[keys.index(v)]:\n",
    "                    m = all_results[keys.index(v)]\n",
    "                    max_key = v\n",
    "            for v in val:\n",
    "                if v!=max_key:\n",
    "                    all_results[keys.index(v)]-=gems[chest.index(ki)]\n",
    "                    \n",
    "                    \n",
    "    #print(all_results)\n",
    "    result = 0\n",
    "    while(k!=0):\n",
    "        result+=max(all_results)\n",
    "        #print(max(all_results))\n",
    "        all_results.remove(max(all_results))\n",
    "        k=k-1\n",
    "    \n",
    "    return result\n",
    "\n",
    "\n",
    "\n",
    "if __name__==\"__main__\":\n",
    "    t = int(input())\n",
    "    while(t>0):\n",
    "        \n",
    "        n,m,k = input().split()\n",
    "        keys  = list(map(int, input().split())) \n",
    "        chest = list(map(int, input().split())) \n",
    "        gems  = list(map(int, input().split())) \n",
    "        \n",
    "        ans = maximizeGems(int(k),keys,chest,gems)\n",
    "        print(ans)\n",
    "        t=t-1\n",
    "\n"
   ]
  },
  {
   "cell_type": "code",
   "execution_count": null,
   "metadata": {},
   "outputs": [],
   "source": []
  }
 ],
 "metadata": {
  "kernelspec": {
   "display_name": "conda env tensorflow",
   "language": "python",
   "name": "tensorflow"
  },
  "language_info": {
   "codemirror_mode": {
    "name": "ipython",
    "version": 3
   },
   "file_extension": ".py",
   "mimetype": "text/x-python",
   "name": "python",
   "nbconvert_exporter": "python",
   "pygments_lexer": "ipython3",
   "version": "3.5.0"
  }
 },
 "nbformat": 4,
 "nbformat_minor": 2
}
